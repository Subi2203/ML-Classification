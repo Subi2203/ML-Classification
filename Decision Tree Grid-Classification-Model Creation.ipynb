{
 "cells": [
  {
   "cell_type": "code",
   "execution_count": 1,
   "metadata": {},
   "outputs": [],
   "source": [
    "#importing the Libraries\n",
    "import pandas as pd"
   ]
  },
  {
   "cell_type": "code",
   "execution_count": 2,
   "metadata": {},
   "outputs": [],
   "source": [
    "#Reading the Dataset\n",
    "dataset=pd.read_csv(\"Social_Network_Ads.csv\")"
   ]
  },
  {
   "cell_type": "code",
   "execution_count": 3,
   "metadata": {},
   "outputs": [],
   "source": [
    "#Convert categorical(nominal or ordinal) data into numerical data and delete first column\n",
    "dataset=pd.get_dummies(dataset,drop_first=True)"
   ]
  },
  {
   "cell_type": "code",
   "execution_count": 4,
   "metadata": {},
   "outputs": [
    {
     "data": {
      "text/html": [
       "<div>\n",
       "<style scoped>\n",
       "    .dataframe tbody tr th:only-of-type {\n",
       "        vertical-align: middle;\n",
       "    }\n",
       "\n",
       "    .dataframe tbody tr th {\n",
       "        vertical-align: top;\n",
       "    }\n",
       "\n",
       "    .dataframe thead th {\n",
       "        text-align: right;\n",
       "    }\n",
       "</style>\n",
       "<table border=\"1\" class=\"dataframe\">\n",
       "  <thead>\n",
       "    <tr style=\"text-align: right;\">\n",
       "      <th></th>\n",
       "      <th>Age</th>\n",
       "      <th>EstimatedSalary</th>\n",
       "      <th>Purchased</th>\n",
       "      <th>Gender_Male</th>\n",
       "    </tr>\n",
       "  </thead>\n",
       "  <tbody>\n",
       "    <tr>\n",
       "      <td>0</td>\n",
       "      <td>19</td>\n",
       "      <td>19000</td>\n",
       "      <td>0</td>\n",
       "      <td>1</td>\n",
       "    </tr>\n",
       "    <tr>\n",
       "      <td>1</td>\n",
       "      <td>35</td>\n",
       "      <td>20000</td>\n",
       "      <td>0</td>\n",
       "      <td>1</td>\n",
       "    </tr>\n",
       "    <tr>\n",
       "      <td>2</td>\n",
       "      <td>26</td>\n",
       "      <td>43000</td>\n",
       "      <td>0</td>\n",
       "      <td>0</td>\n",
       "    </tr>\n",
       "    <tr>\n",
       "      <td>3</td>\n",
       "      <td>27</td>\n",
       "      <td>57000</td>\n",
       "      <td>0</td>\n",
       "      <td>0</td>\n",
       "    </tr>\n",
       "    <tr>\n",
       "      <td>4</td>\n",
       "      <td>19</td>\n",
       "      <td>76000</td>\n",
       "      <td>0</td>\n",
       "      <td>1</td>\n",
       "    </tr>\n",
       "    <tr>\n",
       "      <td>...</td>\n",
       "      <td>...</td>\n",
       "      <td>...</td>\n",
       "      <td>...</td>\n",
       "      <td>...</td>\n",
       "    </tr>\n",
       "    <tr>\n",
       "      <td>395</td>\n",
       "      <td>46</td>\n",
       "      <td>41000</td>\n",
       "      <td>1</td>\n",
       "      <td>0</td>\n",
       "    </tr>\n",
       "    <tr>\n",
       "      <td>396</td>\n",
       "      <td>51</td>\n",
       "      <td>23000</td>\n",
       "      <td>1</td>\n",
       "      <td>1</td>\n",
       "    </tr>\n",
       "    <tr>\n",
       "      <td>397</td>\n",
       "      <td>50</td>\n",
       "      <td>20000</td>\n",
       "      <td>1</td>\n",
       "      <td>0</td>\n",
       "    </tr>\n",
       "    <tr>\n",
       "      <td>398</td>\n",
       "      <td>36</td>\n",
       "      <td>33000</td>\n",
       "      <td>0</td>\n",
       "      <td>1</td>\n",
       "    </tr>\n",
       "    <tr>\n",
       "      <td>399</td>\n",
       "      <td>49</td>\n",
       "      <td>36000</td>\n",
       "      <td>1</td>\n",
       "      <td>0</td>\n",
       "    </tr>\n",
       "  </tbody>\n",
       "</table>\n",
       "<p>400 rows × 4 columns</p>\n",
       "</div>"
      ],
      "text/plain": [
       "     Age  EstimatedSalary  Purchased  Gender_Male\n",
       "0     19            19000          0            1\n",
       "1     35            20000          0            1\n",
       "2     26            43000          0            0\n",
       "3     27            57000          0            0\n",
       "4     19            76000          0            1\n",
       "..   ...              ...        ...          ...\n",
       "395   46            41000          1            0\n",
       "396   51            23000          1            1\n",
       "397   50            20000          1            0\n",
       "398   36            33000          0            1\n",
       "399   49            36000          1            0\n",
       "\n",
       "[400 rows x 4 columns]"
      ]
     },
     "execution_count": 4,
     "metadata": {},
     "output_type": "execute_result"
    }
   ],
   "source": [
    "dataset.drop('User ID', axis=1)#without \"axis\", it throws error after execution\n",
    "#axis=0 means row vice. axis=1 means column vice. We should delete column vice only"
   ]
  },
  {
   "cell_type": "code",
   "execution_count": 5,
   "metadata": {},
   "outputs": [],
   "source": [
    "independent=dataset[['Age', 'EstimatedSalary', 'Gender_Male']]"
   ]
  },
  {
   "cell_type": "code",
   "execution_count": 6,
   "metadata": {},
   "outputs": [],
   "source": [
    "dependent=dataset[['Purchased']]"
   ]
  },
  {
   "cell_type": "code",
   "execution_count": 7,
   "metadata": {},
   "outputs": [],
   "source": [
    "#in Regression - split into training set and test set is not needed for Grid\n",
    "#But in Classification - split into training set and test set should be needed for Grid\n",
    "#Because, we can see, matrix as well as classificatio report\n",
    "#and also, type 1 error, type 2 error, etc., needs to check\n",
    "from sklearn.model_selection import train_test_split\n",
    "X_train,X_test,Y_train,Y_test=train_test_split(independent,dependent,test_size=0.30,random_state=0)"
   ]
  },
  {
   "cell_type": "code",
   "execution_count": 8,
   "metadata": {},
   "outputs": [
    {
     "data": {
      "text/html": [
       "<div>\n",
       "<style scoped>\n",
       "    .dataframe tbody tr th:only-of-type {\n",
       "        vertical-align: middle;\n",
       "    }\n",
       "\n",
       "    .dataframe tbody tr th {\n",
       "        vertical-align: top;\n",
       "    }\n",
       "\n",
       "    .dataframe thead th {\n",
       "        text-align: right;\n",
       "    }\n",
       "</style>\n",
       "<table border=\"1\" class=\"dataframe\">\n",
       "  <thead>\n",
       "    <tr style=\"text-align: right;\">\n",
       "      <th></th>\n",
       "      <th>Age</th>\n",
       "      <th>EstimatedSalary</th>\n",
       "      <th>Gender_Male</th>\n",
       "    </tr>\n",
       "  </thead>\n",
       "  <tbody>\n",
       "    <tr>\n",
       "      <td>132</td>\n",
       "      <td>30.771013</td>\n",
       "      <td>86999.502799</td>\n",
       "      <td>0.007118</td>\n",
       "    </tr>\n",
       "    <tr>\n",
       "      <td>309</td>\n",
       "      <td>37.986695</td>\n",
       "      <td>50000.572804</td>\n",
       "      <td>1.007169</td>\n",
       "    </tr>\n",
       "    <tr>\n",
       "      <td>341</td>\n",
       "      <td>35.280814</td>\n",
       "      <td>74999.849828</td>\n",
       "      <td>0.007118</td>\n",
       "    </tr>\n",
       "    <tr>\n",
       "      <td>196</td>\n",
       "      <td>30.771013</td>\n",
       "      <td>78999.734151</td>\n",
       "      <td>1.007169</td>\n",
       "    </tr>\n",
       "    <tr>\n",
       "      <td>246</td>\n",
       "      <td>35.280814</td>\n",
       "      <td>50000.572804</td>\n",
       "      <td>1.007169</td>\n",
       "    </tr>\n",
       "    <tr>\n",
       "      <td>...</td>\n",
       "      <td>...</td>\n",
       "      <td>...</td>\n",
       "      <td>...</td>\n",
       "    </tr>\n",
       "    <tr>\n",
       "      <td>216</td>\n",
       "      <td>47.908257</td>\n",
       "      <td>65000.139018</td>\n",
       "      <td>0.007118</td>\n",
       "    </tr>\n",
       "    <tr>\n",
       "      <td>259</td>\n",
       "      <td>44.300416</td>\n",
       "      <td>130998.230361</td>\n",
       "      <td>1.007169</td>\n",
       "    </tr>\n",
       "    <tr>\n",
       "      <td>49</td>\n",
       "      <td>31.672973</td>\n",
       "      <td>88999.444961</td>\n",
       "      <td>1.007169</td>\n",
       "    </tr>\n",
       "    <tr>\n",
       "      <td>238</td>\n",
       "      <td>45.202376</td>\n",
       "      <td>81999.647394</td>\n",
       "      <td>1.007169</td>\n",
       "    </tr>\n",
       "    <tr>\n",
       "      <td>343</td>\n",
       "      <td>46.104336</td>\n",
       "      <td>51000.543885</td>\n",
       "      <td>1.007169</td>\n",
       "    </tr>\n",
       "  </tbody>\n",
       "</table>\n",
       "<p>120 rows × 3 columns</p>\n",
       "</div>"
      ],
      "text/plain": [
       "           Age  EstimatedSalary  Gender_Male\n",
       "132  30.771013     86999.502799     0.007118\n",
       "309  37.986695     50000.572804     1.007169\n",
       "341  35.280814     74999.849828     0.007118\n",
       "196  30.771013     78999.734151     1.007169\n",
       "246  35.280814     50000.572804     1.007169\n",
       "..         ...              ...          ...\n",
       "216  47.908257     65000.139018     0.007118\n",
       "259  44.300416    130998.230361     1.007169\n",
       "49   31.672973     88999.444961     1.007169\n",
       "238  45.202376     81999.647394     1.007169\n",
       "343  46.104336     51000.543885     1.007169\n",
       "\n",
       "[120 rows x 3 columns]"
      ]
     },
     "execution_count": 8,
     "metadata": {},
     "output_type": "execute_result"
    }
   ],
   "source": [
    "#Convert the data into standardized data\n",
    "from sklearn.preprocessing import StandardScaler\n",
    "sc=StandardScaler()\n",
    "X_train=sc.fit_transform(X_train)\n",
    "X_test-sc.transform(X_test)"
   ]
  },
  {
   "cell_type": "code",
   "execution_count": 9,
   "metadata": {},
   "outputs": [
    {
     "name": "stdout",
     "output_type": "stream",
     "text": [
      "Fitting 5 folds for each of 12 candidates, totalling 60 fits\n"
     ]
    },
    {
     "data": {
      "text/plain": [
       "GridSearchCV(estimator=DecisionTreeClassifier(), n_jobs=-1,\n",
       "             param_grid={'criterion': ['gini', 'entropy'],\n",
       "                         'max_features': ['auto', 'sqrt', 'log2'],\n",
       "                         'splitter': ['best', 'random']},\n",
       "             scoring='f1_weighted', verbose=3)"
      ]
     },
     "execution_count": 9,
     "metadata": {},
     "output_type": "execute_result"
    }
   ],
   "source": [
    "from sklearn.model_selection import GridSearchCV\n",
    "from sklearn.tree import DecisionTreeClassifier\n",
    "param_grid = {'criterion':['gini', 'entropy'],'max_features':['auto', 'sqrt', 'log2'], 'splitter':['best', 'random']}\n",
    "grid = GridSearchCV(DecisionTreeClassifier(), param_grid, refit=True, verbose=3, n_jobs=-1, scoring='f1_weighted')\n",
    "#Here, refit=True is used to store best model in 'grid' among all the combinations\n",
    "#Here, scoring='f1_weighted' is used. Because, its suitable for balanced and imbalanced data as well as precision, recall etc.,\n",
    "#fitting the model for grid search\n",
    "grid.fit(X_train,Y_train)"
   ]
  },
  {
   "cell_type": "code",
   "execution_count": 10,
   "metadata": {},
   "outputs": [
    {
     "name": "stdout",
     "output_type": "stream",
     "text": [
      "The R_score value for best parameter {'criterion': 'gini', 'max_features': 'sqrt', 'splitter': 'best'}:\n"
     ]
    }
   ],
   "source": [
    "# print best parameter after tuning. Format is print(grid.best_params_)\n",
    "result=grid.cv_results_\n",
    "print(\"The value for best parameter {}:\".format(grid.best_params_))"
   ]
  },
  {
   "cell_type": "code",
   "execution_count": 11,
   "metadata": {},
   "outputs": [
    {
     "data": {
      "text/html": [
       "<div>\n",
       "<style scoped>\n",
       "    .dataframe tbody tr th:only-of-type {\n",
       "        vertical-align: middle;\n",
       "    }\n",
       "\n",
       "    .dataframe tbody tr th {\n",
       "        vertical-align: top;\n",
       "    }\n",
       "\n",
       "    .dataframe thead th {\n",
       "        text-align: right;\n",
       "    }\n",
       "</style>\n",
       "<table border=\"1\" class=\"dataframe\">\n",
       "  <thead>\n",
       "    <tr style=\"text-align: right;\">\n",
       "      <th></th>\n",
       "      <th>mean_fit_time</th>\n",
       "      <th>std_fit_time</th>\n",
       "      <th>mean_score_time</th>\n",
       "      <th>std_score_time</th>\n",
       "      <th>param_criterion</th>\n",
       "      <th>param_max_features</th>\n",
       "      <th>param_splitter</th>\n",
       "      <th>params</th>\n",
       "      <th>split0_test_score</th>\n",
       "      <th>split1_test_score</th>\n",
       "      <th>split2_test_score</th>\n",
       "      <th>split3_test_score</th>\n",
       "      <th>split4_test_score</th>\n",
       "      <th>mean_test_score</th>\n",
       "      <th>std_test_score</th>\n",
       "      <th>rank_test_score</th>\n",
       "    </tr>\n",
       "  </thead>\n",
       "  <tbody>\n",
       "    <tr>\n",
       "      <td>0</td>\n",
       "      <td>0.009424</td>\n",
       "      <td>0.006937</td>\n",
       "      <td>0.003125</td>\n",
       "      <td>0.006250</td>\n",
       "      <td>gini</td>\n",
       "      <td>auto</td>\n",
       "      <td>best</td>\n",
       "      <td>{'criterion': 'gini', 'max_features': 'auto', ...</td>\n",
       "      <td>0.855314</td>\n",
       "      <td>0.787755</td>\n",
       "      <td>0.770909</td>\n",
       "      <td>0.892857</td>\n",
       "      <td>0.910254</td>\n",
       "      <td>0.843418</td>\n",
       "      <td>0.055514</td>\n",
       "      <td>2</td>\n",
       "    </tr>\n",
       "    <tr>\n",
       "      <td>1</td>\n",
       "      <td>0.003125</td>\n",
       "      <td>0.006251</td>\n",
       "      <td>0.006250</td>\n",
       "      <td>0.007655</td>\n",
       "      <td>gini</td>\n",
       "      <td>auto</td>\n",
       "      <td>random</td>\n",
       "      <td>{'criterion': 'gini', 'max_features': 'auto', ...</td>\n",
       "      <td>0.779449</td>\n",
       "      <td>0.802399</td>\n",
       "      <td>0.841398</td>\n",
       "      <td>0.839990</td>\n",
       "      <td>0.802559</td>\n",
       "      <td>0.813159</td>\n",
       "      <td>0.024008</td>\n",
       "      <td>11</td>\n",
       "    </tr>\n",
       "    <tr>\n",
       "      <td>2</td>\n",
       "      <td>0.009375</td>\n",
       "      <td>0.007655</td>\n",
       "      <td>0.000000</td>\n",
       "      <td>0.000000</td>\n",
       "      <td>gini</td>\n",
       "      <td>sqrt</td>\n",
       "      <td>best</td>\n",
       "      <td>{'criterion': 'gini', 'max_features': 'sqrt', ...</td>\n",
       "      <td>0.795918</td>\n",
       "      <td>0.787755</td>\n",
       "      <td>0.823129</td>\n",
       "      <td>0.911105</td>\n",
       "      <td>0.926743</td>\n",
       "      <td>0.848930</td>\n",
       "      <td>0.058547</td>\n",
       "      <td>1</td>\n",
       "    </tr>\n",
       "    <tr>\n",
       "      <td>3</td>\n",
       "      <td>0.003125</td>\n",
       "      <td>0.006250</td>\n",
       "      <td>0.003125</td>\n",
       "      <td>0.006249</td>\n",
       "      <td>gini</td>\n",
       "      <td>sqrt</td>\n",
       "      <td>random</td>\n",
       "      <td>{'criterion': 'gini', 'max_features': 'sqrt', ...</td>\n",
       "      <td>0.802399</td>\n",
       "      <td>0.821429</td>\n",
       "      <td>0.821429</td>\n",
       "      <td>0.806689</td>\n",
       "      <td>0.819444</td>\n",
       "      <td>0.814278</td>\n",
       "      <td>0.008095</td>\n",
       "      <td>10</td>\n",
       "    </tr>\n",
       "    <tr>\n",
       "      <td>4</td>\n",
       "      <td>0.006250</td>\n",
       "      <td>0.007654</td>\n",
       "      <td>0.000000</td>\n",
       "      <td>0.000000</td>\n",
       "      <td>gini</td>\n",
       "      <td>log2</td>\n",
       "      <td>best</td>\n",
       "      <td>{'criterion': 'gini', 'max_features': 'log2', ...</td>\n",
       "      <td>0.872432</td>\n",
       "      <td>0.857143</td>\n",
       "      <td>0.750000</td>\n",
       "      <td>0.819444</td>\n",
       "      <td>0.855556</td>\n",
       "      <td>0.830915</td>\n",
       "      <td>0.044040</td>\n",
       "      <td>3</td>\n",
       "    </tr>\n",
       "    <tr>\n",
       "      <td>5</td>\n",
       "      <td>0.008513</td>\n",
       "      <td>0.011023</td>\n",
       "      <td>0.003125</td>\n",
       "      <td>0.006251</td>\n",
       "      <td>gini</td>\n",
       "      <td>log2</td>\n",
       "      <td>random</td>\n",
       "      <td>{'criterion': 'gini', 'max_features': 'log2', ...</td>\n",
       "      <td>0.795918</td>\n",
       "      <td>0.804584</td>\n",
       "      <td>0.877280</td>\n",
       "      <td>0.785714</td>\n",
       "      <td>0.833784</td>\n",
       "      <td>0.819456</td>\n",
       "      <td>0.033053</td>\n",
       "      <td>8</td>\n",
       "    </tr>\n",
       "    <tr>\n",
       "      <td>6</td>\n",
       "      <td>0.003125</td>\n",
       "      <td>0.006251</td>\n",
       "      <td>0.006250</td>\n",
       "      <td>0.007655</td>\n",
       "      <td>entropy</td>\n",
       "      <td>auto</td>\n",
       "      <td>best</td>\n",
       "      <td>{'criterion': 'entropy', 'max_features': 'auto...</td>\n",
       "      <td>0.835985</td>\n",
       "      <td>0.819142</td>\n",
       "      <td>0.804584</td>\n",
       "      <td>0.841045</td>\n",
       "      <td>0.833784</td>\n",
       "      <td>0.826908</td>\n",
       "      <td>0.013328</td>\n",
       "      <td>5</td>\n",
       "    </tr>\n",
       "    <tr>\n",
       "      <td>7</td>\n",
       "      <td>0.011174</td>\n",
       "      <td>0.006382</td>\n",
       "      <td>0.002263</td>\n",
       "      <td>0.003175</td>\n",
       "      <td>entropy</td>\n",
       "      <td>auto</td>\n",
       "      <td>random</td>\n",
       "      <td>{'criterion': 'entropy', 'max_features': 'auto...</td>\n",
       "      <td>0.795918</td>\n",
       "      <td>0.770909</td>\n",
       "      <td>0.806153</td>\n",
       "      <td>0.768874</td>\n",
       "      <td>0.872761</td>\n",
       "      <td>0.802923</td>\n",
       "      <td>0.037739</td>\n",
       "      <td>12</td>\n",
       "    </tr>\n",
       "    <tr>\n",
       "      <td>8</td>\n",
       "      <td>0.006449</td>\n",
       "      <td>0.003225</td>\n",
       "      <td>0.003226</td>\n",
       "      <td>0.003951</td>\n",
       "      <td>entropy</td>\n",
       "      <td>sqrt</td>\n",
       "      <td>best</td>\n",
       "      <td>{'criterion': 'entropy', 'max_features': 'sqrt...</td>\n",
       "      <td>0.838326</td>\n",
       "      <td>0.766471</td>\n",
       "      <td>0.789949</td>\n",
       "      <td>0.841045</td>\n",
       "      <td>0.890114</td>\n",
       "      <td>0.825181</td>\n",
       "      <td>0.043195</td>\n",
       "      <td>6</td>\n",
       "    </tr>\n",
       "    <tr>\n",
       "      <td>9</td>\n",
       "      <td>0.003217</td>\n",
       "      <td>0.003940</td>\n",
       "      <td>0.001600</td>\n",
       "      <td>0.003200</td>\n",
       "      <td>entropy</td>\n",
       "      <td>sqrt</td>\n",
       "      <td>random</td>\n",
       "      <td>{'criterion': 'entropy', 'max_features': 'sqrt...</td>\n",
       "      <td>0.875644</td>\n",
       "      <td>0.821429</td>\n",
       "      <td>0.769053</td>\n",
       "      <td>0.816856</td>\n",
       "      <td>0.870721</td>\n",
       "      <td>0.830741</td>\n",
       "      <td>0.039242</td>\n",
       "      <td>4</td>\n",
       "    </tr>\n",
       "    <tr>\n",
       "      <td>10</td>\n",
       "      <td>0.003222</td>\n",
       "      <td>0.003947</td>\n",
       "      <td>0.001627</td>\n",
       "      <td>0.003254</td>\n",
       "      <td>entropy</td>\n",
       "      <td>log2</td>\n",
       "      <td>best</td>\n",
       "      <td>{'criterion': 'entropy', 'max_features': 'log2...</td>\n",
       "      <td>0.802555</td>\n",
       "      <td>0.823129</td>\n",
       "      <td>0.717007</td>\n",
       "      <td>0.911692</td>\n",
       "      <td>0.853485</td>\n",
       "      <td>0.821574</td>\n",
       "      <td>0.063934</td>\n",
       "      <td>7</td>\n",
       "    </tr>\n",
       "    <tr>\n",
       "      <td>11</td>\n",
       "      <td>0.006449</td>\n",
       "      <td>0.003225</td>\n",
       "      <td>0.000000</td>\n",
       "      <td>0.000000</td>\n",
       "      <td>entropy</td>\n",
       "      <td>log2</td>\n",
       "      <td>random</td>\n",
       "      <td>{'criterion': 'entropy', 'max_features': 'log2...</td>\n",
       "      <td>0.782971</td>\n",
       "      <td>0.750000</td>\n",
       "      <td>0.859966</td>\n",
       "      <td>0.874356</td>\n",
       "      <td>0.809578</td>\n",
       "      <td>0.815374</td>\n",
       "      <td>0.046529</td>\n",
       "      <td>9</td>\n",
       "    </tr>\n",
       "  </tbody>\n",
       "</table>\n",
       "</div>"
      ],
      "text/plain": [
       "    mean_fit_time  std_fit_time  mean_score_time  std_score_time  \\\n",
       "0        0.009424      0.006937         0.003125        0.006250   \n",
       "1        0.003125      0.006251         0.006250        0.007655   \n",
       "2        0.009375      0.007655         0.000000        0.000000   \n",
       "3        0.003125      0.006250         0.003125        0.006249   \n",
       "4        0.006250      0.007654         0.000000        0.000000   \n",
       "5        0.008513      0.011023         0.003125        0.006251   \n",
       "6        0.003125      0.006251         0.006250        0.007655   \n",
       "7        0.011174      0.006382         0.002263        0.003175   \n",
       "8        0.006449      0.003225         0.003226        0.003951   \n",
       "9        0.003217      0.003940         0.001600        0.003200   \n",
       "10       0.003222      0.003947         0.001627        0.003254   \n",
       "11       0.006449      0.003225         0.000000        0.000000   \n",
       "\n",
       "   param_criterion param_max_features param_splitter  \\\n",
       "0             gini               auto           best   \n",
       "1             gini               auto         random   \n",
       "2             gini               sqrt           best   \n",
       "3             gini               sqrt         random   \n",
       "4             gini               log2           best   \n",
       "5             gini               log2         random   \n",
       "6          entropy               auto           best   \n",
       "7          entropy               auto         random   \n",
       "8          entropy               sqrt           best   \n",
       "9          entropy               sqrt         random   \n",
       "10         entropy               log2           best   \n",
       "11         entropy               log2         random   \n",
       "\n",
       "                                               params  split0_test_score  \\\n",
       "0   {'criterion': 'gini', 'max_features': 'auto', ...           0.855314   \n",
       "1   {'criterion': 'gini', 'max_features': 'auto', ...           0.779449   \n",
       "2   {'criterion': 'gini', 'max_features': 'sqrt', ...           0.795918   \n",
       "3   {'criterion': 'gini', 'max_features': 'sqrt', ...           0.802399   \n",
       "4   {'criterion': 'gini', 'max_features': 'log2', ...           0.872432   \n",
       "5   {'criterion': 'gini', 'max_features': 'log2', ...           0.795918   \n",
       "6   {'criterion': 'entropy', 'max_features': 'auto...           0.835985   \n",
       "7   {'criterion': 'entropy', 'max_features': 'auto...           0.795918   \n",
       "8   {'criterion': 'entropy', 'max_features': 'sqrt...           0.838326   \n",
       "9   {'criterion': 'entropy', 'max_features': 'sqrt...           0.875644   \n",
       "10  {'criterion': 'entropy', 'max_features': 'log2...           0.802555   \n",
       "11  {'criterion': 'entropy', 'max_features': 'log2...           0.782971   \n",
       "\n",
       "    split1_test_score  split2_test_score  split3_test_score  \\\n",
       "0            0.787755           0.770909           0.892857   \n",
       "1            0.802399           0.841398           0.839990   \n",
       "2            0.787755           0.823129           0.911105   \n",
       "3            0.821429           0.821429           0.806689   \n",
       "4            0.857143           0.750000           0.819444   \n",
       "5            0.804584           0.877280           0.785714   \n",
       "6            0.819142           0.804584           0.841045   \n",
       "7            0.770909           0.806153           0.768874   \n",
       "8            0.766471           0.789949           0.841045   \n",
       "9            0.821429           0.769053           0.816856   \n",
       "10           0.823129           0.717007           0.911692   \n",
       "11           0.750000           0.859966           0.874356   \n",
       "\n",
       "    split4_test_score  mean_test_score  std_test_score  rank_test_score  \n",
       "0            0.910254         0.843418        0.055514                2  \n",
       "1            0.802559         0.813159        0.024008               11  \n",
       "2            0.926743         0.848930        0.058547                1  \n",
       "3            0.819444         0.814278        0.008095               10  \n",
       "4            0.855556         0.830915        0.044040                3  \n",
       "5            0.833784         0.819456        0.033053                8  \n",
       "6            0.833784         0.826908        0.013328                5  \n",
       "7            0.872761         0.802923        0.037739               12  \n",
       "8            0.890114         0.825181        0.043195                6  \n",
       "9            0.870721         0.830741        0.039242                4  \n",
       "10           0.853485         0.821574        0.063934                7  \n",
       "11           0.809578         0.815374        0.046529                9  "
      ]
     },
     "execution_count": 11,
     "metadata": {},
     "output_type": "execute_result"
    }
   ],
   "source": [
    "#to view entire result table\n",
    "table=pd.DataFrame.from_dict(result)\n",
    "table"
   ]
  },
  {
   "cell_type": "code",
   "execution_count": 12,
   "metadata": {},
   "outputs": [
    {
     "name": "stderr",
     "output_type": "stream",
     "text": [
      "C:\\ProgramData\\Anaconda3\\lib\\site-packages\\sklearn\\base.py:444: UserWarning: X has feature names, but DecisionTreeClassifier was fitted without feature names\n",
      "  f\"X has feature names, but {self.__class__.__name__} was fitted without\"\n"
     ]
    }
   ],
   "source": [
    "y_pred=grid.predict(X_test)"
   ]
  },
  {
   "cell_type": "code",
   "execution_count": 13,
   "metadata": {},
   "outputs": [
    {
     "data": {
      "text/plain": [
       "array([[ 0, 79],\n",
       "       [ 0, 41]], dtype=int64)"
      ]
     },
     "execution_count": 13,
     "metadata": {},
     "output_type": "execute_result"
    }
   ],
   "source": [
    "from sklearn.metrics import confusion_matrix#instead of r2_score we use confusion_matrix here\n",
    "cm=confusion_matrix(Y_test,y_pred)\n",
    "cm"
   ]
  },
  {
   "cell_type": "code",
   "execution_count": 14,
   "metadata": {},
   "outputs": [
    {
     "name": "stderr",
     "output_type": "stream",
     "text": [
      "C:\\ProgramData\\Anaconda3\\lib\\site-packages\\sklearn\\metrics\\_classification.py:1318: UndefinedMetricWarning: Precision and F-score are ill-defined and being set to 0.0 in labels with no predicted samples. Use `zero_division` parameter to control this behavior.\n",
      "  _warn_prf(average, modifier, msg_start, len(result))\n",
      "C:\\ProgramData\\Anaconda3\\lib\\site-packages\\sklearn\\metrics\\_classification.py:1318: UndefinedMetricWarning: Precision and F-score are ill-defined and being set to 0.0 in labels with no predicted samples. Use `zero_division` parameter to control this behavior.\n",
      "  _warn_prf(average, modifier, msg_start, len(result))\n",
      "C:\\ProgramData\\Anaconda3\\lib\\site-packages\\sklearn\\metrics\\_classification.py:1318: UndefinedMetricWarning: Precision and F-score are ill-defined and being set to 0.0 in labels with no predicted samples. Use `zero_division` parameter to control this behavior.\n",
      "  _warn_prf(average, modifier, msg_start, len(result))\n"
     ]
    }
   ],
   "source": [
    "from sklearn.metrics import classification_report\n",
    "clf_report=classification_report(Y_test,y_pred)"
   ]
  },
  {
   "cell_type": "code",
   "execution_count": 15,
   "metadata": {},
   "outputs": [
    {
     "name": "stdout",
     "output_type": "stream",
     "text": [
      "              precision    recall  f1-score   support\n",
      "\n",
      "           0       0.00      0.00      0.00        79\n",
      "           1       0.34      1.00      0.51        41\n",
      "\n",
      "    accuracy                           0.34       120\n",
      "   macro avg       0.17      0.50      0.25       120\n",
      "weighted avg       0.12      0.34      0.17       120\n",
      "\n"
     ]
    }
   ],
   "source": [
    "print(clf_report)"
   ]
  },
  {
   "cell_type": "code",
   "execution_count": 16,
   "metadata": {},
   "outputs": [
    {
     "name": "stdout",
     "output_type": "stream",
     "text": [
      "The f1_score value for best parameter {'criterion': 'gini', 'max_features': 'sqrt', 'splitter': 'best'}: 0.17401656314699793\n"
     ]
    }
   ],
   "source": [
    "#To know the f1_score value individually\n",
    "from sklearn.metrics import f1_score\n",
    "f1 = f1_score(Y_test,y_pred,average='weighted')\n",
    "print(\"The f1_score value for best parameter {}:\".format(grid.best_params_),f1)"
   ]
  },
  {
   "cell_type": "code",
   "execution_count": 17,
   "metadata": {},
   "outputs": [
    {
     "name": "stderr",
     "output_type": "stream",
     "text": [
      "C:\\ProgramData\\Anaconda3\\lib\\site-packages\\sklearn\\base.py:444: UserWarning: X has feature names, but DecisionTreeClassifier was fitted without feature names\n",
      "  f\"X has feature names, but {self.__class__.__name__} was fitted without\"\n"
     ]
    },
    {
     "data": {
      "text/plain": [
       "0.5"
      ]
     },
     "execution_count": 17,
     "metadata": {},
     "output_type": "execute_result"
    }
   ],
   "source": [
    "#Like f1_score, roc_auc_Score is also a value\n",
    "from sklearn.metrics import roc_auc_score\n",
    "roc_auc_score(Y_test,grid.predict_proba(X_test)[:,1])#[:,1] is the proportion value. This is important for this step\n",
    "#[:,1] - : means consider all rows and 1 means consider first column"
   ]
  },
  {
   "cell_type": "code",
   "execution_count": 18,
   "metadata": {},
   "outputs": [],
   "source": [
    "#https://scikit-learn.org/stable/modules/model_evaluation.html#scoring-parameter"
   ]
  },
  {
   "cell_type": "code",
   "execution_count": 19,
   "metadata": {},
   "outputs": [
    {
     "name": "stdout",
     "output_type": "stream",
     "text": [
      "Age:50\n",
      "Salary:30000\n",
      "Sex Male 0 or 1:0\n"
     ]
    }
   ],
   "source": [
    "#we can get input from user also\n",
    "age=float(input(\"Age:\"))\n",
    "salary=float(input(\"Salary:\"))\n",
    "sex=int(input(\"Sex Male 0 or 1:\"))"
   ]
  },
  {
   "cell_type": "code",
   "execution_count": 20,
   "metadata": {},
   "outputs": [
    {
     "name": "stdout",
     "output_type": "stream",
     "text": [
      "Future Predictions [1]:\n"
     ]
    }
   ],
   "source": [
    "result2=grid.predict([[age,salary,sex]])#result of get input from user\n",
    "print(\"Future Predictions {}:\".format(result2))"
   ]
  }
 ],
 "metadata": {
  "kernelspec": {
   "display_name": "Python 3",
   "language": "python",
   "name": "python3"
  },
  "language_info": {
   "codemirror_mode": {
    "name": "ipython",
    "version": 3
   },
   "file_extension": ".py",
   "mimetype": "text/x-python",
   "name": "python",
   "nbconvert_exporter": "python",
   "pygments_lexer": "ipython3",
   "version": "3.7.4"
  }
 },
 "nbformat": 4,
 "nbformat_minor": 2
}
